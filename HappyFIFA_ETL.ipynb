{
 "cells": [
  {
   "cell_type": "markdown",
   "metadata": {},
   "source": [
    "# FIFA 2022 - An ETL Project"
   ]
  },
  {
   "cell_type": "markdown",
   "metadata": {},
   "source": [
    "## Team:\n",
    "Isaac Perez\n",
    "Michelle Risucci\n",
    "Alex Reyes"
   ]
  },
  {
   "cell_type": "markdown",
   "metadata": {},
   "source": [
    "## Background\n",
    "There are currently a few proposed bids from multiple European and South American countries at this time but our FIFA Data Team would like to evaluate other potential host candidates who have not officially submitted bids. Our ETL project hopes to use the FIFA World Team Rankings and the World Happiness Reports from 2015-2019 to aid the 2022 FIFA World Cup bidding committee in evaluating potential host candidates: GDP per capita, Social Support, Perceptions of Corruption, International FIFA Rankings, and Overall citizen \"Happiness\" rank. \n"
   ]
  },
  {
   "cell_type": "markdown",
   "metadata": {},
   "source": [
    "## Objective\n",
    "The 2022 FIFA World Cup Committee would ideally like to select a host country that has a strong supportive economy, a good ranked football team, and a good group of \"Happy\" football fans. Our group's project data aims to meet all those goals."
   ]
  },
  {
   "cell_type": "markdown",
   "metadata": {},
   "source": [
    "## Extract"
   ]
  },
  {
   "cell_type": "markdown",
   "metadata": {},
   "source": [
    "Our team used two different datasets from <www.Kaggle.com>. These two dataset links are located below:\n",
    "\n",
    "\"FIFA World Ranking 1992-2020\" https://www.kaggle.com/cashncarry/fifaworldranking\n",
    "\n",
    "\"World Happiness Report up to 2020\" https://www.kaggle.com/mathurinache/world-happiness-report"
   ]
  },
  {
   "cell_type": "markdown",
   "metadata": {},
   "source": [
    "## Transform"
   ]
  },
  {
   "cell_type": "markdown",
   "metadata": {},
   "source": [
    "#### FIFA World Ranking 1992-2020 Data Cleaning:\n",
    "\n",
    "* Dependencies: pandas / numpy / datetime\n",
    "* Imported \"data/fifa_ranking_2020_11_26.csv\" from /data folder. \n",
    "* Extracted useful columns from original .csv. \n",
    "* Cleaned up data from 2015 to 2019 via the .loc method. \n",
    "* Identified unique countries and confederations. \n",
    "* Grouped international football teams by confederation via the groupby method.\n",
    "* Developed a function to calculate the average FIFA World Ranking (2015-2019) by Confederation.\n",
    "* Developed a function to calculate the average FIFA World Ranking (2015-2019) by Country.\n",
    "* Converted new dataframe to \"data/fifa_data_clean.csv\" in the /data folder. "
   ]
  },
  {
   "cell_type": "code",
   "execution_count": null,
   "metadata": {},
   "outputs": [],
   "source": [
    "# Dependencies\n",
    "\n",
    "import pandas as pd\n",
    "import numpy as np\n",
    "import datetime as dt\n",
    "import os\n",
    "import glob"
   ]
  },
  {
   "cell_type": "code",
   "execution_count": null,
   "metadata": {},
   "outputs": [],
   "source": [
    "# Read in the csv using pandas\n",
    "\n",
    "fifa_csv = \"data/fifa_ranking_2020_11_26.csv\"\n",
    "fifa_df = pd.read_csv(fifa_csv)\n",
    "fifa_df.head()"
   ]
  },
  {
   "cell_type": "code",
   "execution_count": null,
   "metadata": {},
   "outputs": [],
   "source": [
    "# Drop rows with any empty cells\n",
    "\n",
    "fifa_df.dropna(\n",
    "    axis=0,\n",
    "    how='any',\n",
    "    thresh=None,\n",
    "    subset=None,\n",
    "    inplace=True)\n",
    "fifa_df.columns"
   ]
  },
  {
   "cell_type": "code",
   "execution_count": null,
   "metadata": {},
   "outputs": [],
   "source": [
    "# Extract the following columns: \"id\", \"rank\", \"country_full\", \"confederation\", \"rank_date\"\n",
    "\n",
    "fifa_data_df = fifa_df[[\"id\", \"rank\", \"country_full\", \"confederation\", \"rank_date\"]]\n",
    "fifa_data_df.head()"
   ]
  },
  {
   "cell_type": "code",
   "execution_count": null,
   "metadata": {},
   "outputs": [],
   "source": [
    "# Clean up data from > 2015\n",
    "\n",
    "fifa_data_clean2015 = fifa_data_df.loc[fifa_data_df[\"rank_date\"] >= \"2015-01-01\", :]\n",
    "fifa_data_clean2015"
   ]
  },
  {
   "cell_type": "code",
   "execution_count": null,
   "metadata": {},
   "outputs": [],
   "source": [
    "# Clean up data from < 2019\n",
    "\n",
    "fifa_data_clean = fifa_data_clean2015.loc[fifa_data_clean2015[\"rank_date\"] <= \"2019-12-31\", :]\n",
    "fifa_data_clean"
   ]
  },
  {
   "cell_type": "code",
   "execution_count": null,
   "metadata": {},
   "outputs": [],
   "source": [
    "# Find FIFA unique countries on the list\n",
    "\n",
    "country_count = len(fifa_data_clean[\"country_full\"].unique())\n",
    "print(f\" The {country_count} is: \")"
   ]
  },
  {
   "cell_type": "code",
   "execution_count": null,
   "metadata": {},
   "outputs": [],
   "source": [
    "# Fifa rank goes from 1-211 in some instances, verified in Excel\n",
    "\n",
    "rank_count = len(fifa_data_clean[\"rank\"].unique())\n",
    "print(f\" The {rank_count} is: \")"
   ]
  },
  {
   "cell_type": "code",
   "execution_count": null,
   "metadata": {},
   "outputs": [],
   "source": [
    "# Number of confederations in Fifa World Rankings\n",
    "\n",
    "confederation_count = len(fifa_data_clean[\"confederation\"].unique())\n",
    "print(f\" The {confederation_count} is: \")"
   ]
  },
  {
   "cell_type": "code",
   "execution_count": null,
   "metadata": {},
   "outputs": [],
   "source": [
    "# Count & Name of every country that's been listed into the database.\n",
    "\n",
    "df_country_groupby = fifa_data_clean.groupby(\"country_full\")\n",
    "df_country_nunique = df_country_groupby[\"country_full\"].nunique()\n",
    "df_country_nunique"
   ]
  },
  {
   "cell_type": "markdown",
   "metadata": {},
   "source": [
    "##### Confederations\n",
    "* AFC - Asian Football Confederation \n",
    "* CAF - Confederation of African Football \n",
    "* CONCACAF - Confederation of North, Central America and Caribbean Association Football \n",
    "* CONMEBOL - South American Football Confederation \n",
    "* OFC - Oceania Football Confederation \n",
    "* UEFA - Union of European Football Associations"
   ]
  },
  {
   "cell_type": "code",
   "execution_count": null,
   "metadata": {},
   "outputs": [],
   "source": [
    "# Number of national teams in each confederation. \n",
    "\n",
    "df_confederation_groupby = fifa_data_clean.groupby(\"confederation\")\n",
    "df_confederation_groupby.nunique()"
   ]
  },
  {
   "cell_type": "code",
   "execution_count": null,
   "metadata": {},
   "outputs": [],
   "source": [
    "# Calculate the average FIFA World Ranking by Confederation\n",
    "\n",
    "df_AFC_average_rank = fifa_data_clean[fifa_data_clean[\"confederation\"] == \"AFC\"].mean()\n",
    "print(\"AFC\")\n",
    "print(df_AFC_average_rank)\n",
    "print(\"----------\")\n",
    "\n",
    "df_CAF_average_rank = fifa_data_clean[fifa_data_clean[\"confederation\"] == \"CAF\"].mean()\n",
    "print(\"CAF\")\n",
    "print(df_CAF_average_rank)\n",
    "print(\"----------\")\n",
    "\n",
    "df_CONCACAF_average_rank = fifa_data_clean[fifa_data_clean[\"confederation\"] == \"CONCACAF\"].mean()\n",
    "print(\"CONCACAF\")\n",
    "print(df_CONCACAF_average_rank)\n",
    "print(\"----------\")\n",
    "\n",
    "df_CONMEBOL_average_rank = fifa_data_clean[fifa_data_clean[\"confederation\"] == \"CONMEBOL\"].mean()\n",
    "print(\"CONMEBOL\")\n",
    "print(df_CONMEBOL_average_rank)\n",
    "print(\"----------\")\n",
    "\n",
    "df_OFC_average_rank = fifa_data_clean[fifa_data_clean[\"confederation\"] == \"OFC\"].mean()\n",
    "print(\"OFC\")\n",
    "print(df_OFC_average_rank)\n",
    "print(\"----------\")\n",
    "\n",
    "df_UEFA_average_rank = fifa_data_clean[fifa_data_clean[\"confederation\"] == \"UEFA\"].mean()\n",
    "print(\"UEFA\")\n",
    "print(df_UEFA_average_rank)\n",
    "print(\"----------\")"
   ]
  },
  {
   "cell_type": "code",
   "execution_count": null,
   "metadata": {},
   "outputs": [],
   "source": [
    "# Calculate the average FIFA World Ranking by Country\n",
    "\n",
    "df_germany_average_rank = fifa_data_clean[fifa_data_clean[\"country_full\"] == \"Germany\"].mean()\n",
    "print(\"Germany\")\n",
    "print(\"df_germany_average_rank\")\n",
    "print(\"----------\")\n",
    "\n",
    "df_france_average_rank = fifa_data_clean[fifa_data_clean[\"country_full\"] == \"France\"].mean()\n",
    "print(\"France\")\n",
    "print(\"df_france_average_rank\")\n",
    "print(\"----------\")\n",
    "\n",
    "df_usa_average_rank = fifa_data_clean[fifa_data_clean[\"country_full\"] == \"USA\"].mean()\n",
    "print(\"USA\")\n",
    "print(\"df_usa_average_rank\")\n",
    "print(\"----------\")\n",
    "\n",
    "df_brazil_average_rank = fifa_data_clean[fifa_data_clean[\"country_full\"] == \"Brazil\"].mean()\n",
    "print(\"Brazil\")\n",
    "print(\"df_brazil_average_rank\")\n",
    "print(\"----------\")\n",
    "\n",
    "df_russia_average_rank = fifa_data_clean[fifa_data_clean[\"country_full\"] == \"Russia\"].mean()\n",
    "print(\"Russia\")\n",
    "print(\"df_russia_average_rank\")\n",
    "print(\"----------\")\n",
    "\n",
    "\n",
    "df_india_average_rank = fifa_data_clean[fifa_data_clean[\"country_full\"] == \"India\"].mean()\n",
    "print(\"india\")\n",
    "print(\"df_india_average_rank\")\n",
    "print(\"----------\")\n",
    "\n"
   ]
  },
  {
   "cell_type": "code",
   "execution_count": null,
   "metadata": {},
   "outputs": [],
   "source": [
    "# Convert to .csv file\n",
    "fifa_data_clean = fifa_data_clean.to_csv(\"data/fifa_data_clean.csv\", index=True)"
   ]
  },
  {
   "cell_type": "markdown",
   "metadata": {},
   "source": [
    "#### World Happiness Report 2015-2019 Data Cleaning:\n",
    "\n",
    "* Dependencies: pandas / os / glob\n",
    "* Imported five happy_year.csv files from Happiness/Resources folder.\n",
    "* Extracted useful columns from the five original happy_year.csv files.\n",
    "* Cleaned up the data in each file by reorganizing and renaming columns.\n",
    "* Created a new dataframe with country and region to merge into three individual happy_year.csv files.\n",
    "* Evaluated the files for null values. \n",
    "* Eliminated all null values. \n",
    "* Converted new clean dataframes for each year and region dataframe into one dataframe \"Happiness/Happy_All_years.csv\"."
   ]
  },
  {
   "cell_type": "code",
   "execution_count": null,
   "metadata": {},
   "outputs": [],
   "source": [
    "# Create loop to read in each csv file\n",
    "\n",
    "path = 'Resources'\n",
    "filenames = glob.glob(path + \"/*.csv\")\n",
    "\n",
    "d = {}\n",
    "\n",
    "for filename in filenames:\n",
    "    d[filename] = pd.read_csv(filename)\n",
    "    print(filename)"
   ]
  },
  {
   "cell_type": "markdown",
   "metadata": {},
   "source": [
    "##### 2015"
   ]
  },
  {
   "cell_type": "code",
   "execution_count": null,
   "metadata": {},
   "outputs": [],
   "source": [
    "# Save df to unique variable and create a new dataframe with select columns\n",
    "\n",
    "df_2015 = d['Resources/2015.csv']\n",
    "new_df_2015 = df_2015[['Country', 'Region', 'Happiness Rank', 'Happiness Score', 'Economy (GDP per Capita)', \n",
    "                       'Health (Life Expectancy)','Freedom', 'Trust (Government Corruption)', 'Generosity']].copy()\n",
    "new_df_2015.rename(columns = {'Country': \"country\", 'Region': \"region\", 'Happiness Rank': \"happiness rank\", \n",
    "                             'Happiness Score': \"happiness score\", 'Economy (GDP per Capita)': \"GDP\",\n",
    "                             'Health (Life Expectancy)': \"health - life expectancy\", 'Freedom':\"freedom\",\n",
    "                             'Trust (Government Corruption)': \"trust (govt corruption)\", 'Generosity': \"generosity\"}, inplace=True)\n",
    "new_df_2015.head()"
   ]
  },
  {
   "cell_type": "code",
   "execution_count": null,
   "metadata": {},
   "outputs": [],
   "source": [
    "# Search for missing values\n",
    "\n",
    "new_df_2015.isnull().values.any()"
   ]
  },
  {
   "cell_type": "code",
   "execution_count": null,
   "metadata": {},
   "outputs": [],
   "source": [
    "# Convert to .csv file\n",
    "\n",
    "new_df_2015.to_csv('happy_2015.csv', index=False)"
   ]
  },
  {
   "cell_type": "markdown",
   "metadata": {},
   "source": [
    "##### 2016"
   ]
  },
  {
   "cell_type": "code",
   "execution_count": null,
   "metadata": {},
   "outputs": [],
   "source": [
    "# Save df to unique variable and create a new dataframe with select columns\n",
    "\n",
    "df_2016 = d['Resources/2016.csv']\n",
    "new_df_2016 = df_2016[['Country', 'Region', 'Happiness Rank', 'Happiness Score', 'Economy (GDP per Capita)', \n",
    "                       'Health (Life Expectancy)','Freedom', 'Trust (Government Corruption)', 'Generosity']].copy()\n",
    "new_df_2016.rename(columns = {'Country': \"country\", 'Region': \"region\", 'Happiness Rank': \"happiness rank\", \n",
    "                             'Happiness Score': \"happiness score\", 'Economy (GDP per Capita)': \"GDP\",\n",
    "                             'Health (Life Expectancy)': \"health - life expectancy\", 'Freedom':\"freedom\",\n",
    "                             'Trust (Government Corruption)': \"trust (govt corruption)\", 'Generosity': \"generosity\"}, inplace=True)\n",
    "new_df_2016.head()"
   ]
  },
  {
   "cell_type": "code",
   "execution_count": null,
   "metadata": {},
   "outputs": [],
   "source": [
    "# Search for missing values\n",
    "\n",
    "new_df_2016.isnull().values.any()"
   ]
  },
  {
   "cell_type": "code",
   "execution_count": null,
   "metadata": {},
   "outputs": [],
   "source": [
    "# Convert to .csv file\n",
    "\n",
    "new_df_2016.to_csv('happy_2016.csv', index=False)"
   ]
  },
  {
   "cell_type": "code",
   "execution_count": null,
   "metadata": {},
   "outputs": [],
   "source": [
    "# Create country region dataframe and convert to .csv file\n",
    "\n",
    "region_df = new_df_2016[['country', 'region']].copy()\n",
    "region_df.sort_values(by=['country'], inplace=True)\n",
    "\n",
    "region_df.to_csv('happy_by_region', index=False)\n",
    "\n",
    "region_df.head()"
   ]
  },
  {
   "cell_type": "markdown",
   "metadata": {},
   "source": [
    "##### 2017"
   ]
  },
  {
   "cell_type": "code",
   "execution_count": null,
   "metadata": {},
   "outputs": [],
   "source": [
    "# Save df to unique variable and create a new dataframe with select columns\n",
    "\n",
    "df_2017 = d['Resources/2017.csv']\n",
    "df_17 = df_2017[['Country', 'Happiness.Rank', 'Happiness.Score', 'Economy..GDP.per.Capita.', \n",
    "                       'Health..Life.Expectancy.','Freedom', 'Trust..Government.Corruption.', 'Generosity']].copy()\n",
    "df_17.rename(columns = {'Country': \"country\", 'Happiness.Rank': \"happiness rank\", \n",
    "                             'Happiness.Score': \"happiness score\", 'Economy..GDP.per.Capita.': \"GDP\",\n",
    "                             'Health..Life.Expectancy.': \"health - life expectancy\", 'Freedom':\"freedom\",\n",
    "                             'Trust..Government.Corruption.': \"trust (govt corruption)\", 'Generosity': \"generosity\"}, inplace=True)\n",
    "df_17.head()"
   ]
  },
  {
   "cell_type": "code",
   "execution_count": null,
   "metadata": {},
   "outputs": [],
   "source": [
    "# Merge region_df on country for complete dataframe\n",
    "\n",
    "merge_17 = df_17.merge(region_df, on='country')\n",
    "\n",
    "\n",
    "# Create new dataframe and reindex columns\n",
    "\n",
    "column_names = ('country', 'region', 'happiness rank', 'happiness score', 'GDP',\n",
    "           'health - life expectancy', 'freedom', 'trust (govt corruption)',\n",
    "           'generosity')\n",
    "new_df_2017 = merge_17.reindex(columns=column_names)\n",
    "new_df_2017.head()"
   ]
  },
  {
   "cell_type": "code",
   "execution_count": null,
   "metadata": {},
   "outputs": [],
   "source": [
    "# Search for missing values \n",
    "\n",
    "new_df_2017.isnull().values.any()"
   ]
  },
  {
   "cell_type": "code",
   "execution_count": null,
   "metadata": {},
   "outputs": [],
   "source": [
    "# Convert to .csv file\n",
    "\n",
    "new_df_2017.to_csv('happy_2017.csv', index=False)"
   ]
  },
  {
   "cell_type": "markdown",
   "metadata": {},
   "source": [
    "##### 2018"
   ]
  },
  {
   "cell_type": "code",
   "execution_count": null,
   "metadata": {},
   "outputs": [],
   "source": [
    "# Save df to unique variable and create a new dataframe with select columns\n",
    "\n",
    "df_2018 = d['Resources/2018.csv']\n",
    "df_18 = df_2018[['Country or region', 'Overall rank', 'Score', 'GDP per capita', 'Healthy life expectancy',\n",
    "                      'Freedom to make life choices', 'Perceptions of corruption', 'Generosity']].copy()\n",
    "df_18.rename(columns = {'Country or region': \"country\", 'Overall rank': \"happiness rank\", \n",
    "                             'Score': \"happiness score\", 'GDP per capita': \"GDP\",\n",
    "                             'Healthy life expectancy': \"health - life expectancy\", 'Freedom to make life choices':\"freedom\",\n",
    "                             'Perceptions of corruption': \"trust (govt corruption)\", 'Generosity': \"generosity\"}, inplace=True)\n",
    "df_18"
   ]
  },
  {
   "cell_type": "code",
   "execution_count": null,
   "metadata": {},
   "outputs": [],
   "source": [
    "# Merge region_df on country for complete dataframe\n",
    "\n",
    "merge_18 = df_18.merge(region_df, on='country')\n",
    "\n",
    "\n",
    "# Create new dataframe and reindex columns\n",
    "\n",
    "column_names = ('country', 'region', 'happiness rank', 'happiness score', 'GDP',\n",
    "           'health - life expectancy', 'freedom', 'trust (govt corruption)',\n",
    "           'generosity')\n",
    "new_df_2018 = merge_18.reindex(columns=column_names)\n",
    "new_df_2018.head()"
   ]
  },
  {
   "cell_type": "code",
   "execution_count": null,
   "metadata": {},
   "outputs": [],
   "source": [
    "# Search for missing values\n",
    "\n",
    "new_df_2018.isnull().values.any()"
   ]
  },
  {
   "cell_type": "code",
   "execution_count": null,
   "metadata": {},
   "outputs": [],
   "source": [
    "# Look up and remove null values\n",
    "\n",
    "nan_values= new_df_2018[new_df_2018.isna().any(axis=1)]\n",
    "(print)nan_values\n",
    "\n",
    "clean_df_2018 = new_df_2018.dropna()\n",
    "clean_df_2018.head()"
   ]
  },
  {
   "cell_type": "code",
   "execution_count": null,
   "metadata": {},
   "outputs": [],
   "source": [
    "# Convert to .csv file\n",
    "\n",
    "clean_df_2018.to_csv('happy_2018.csv', index=False)"
   ]
  },
  {
   "cell_type": "markdown",
   "metadata": {},
   "source": [
    "##### 2019"
   ]
  },
  {
   "cell_type": "code",
   "execution_count": null,
   "metadata": {},
   "outputs": [],
   "source": [
    "# Save df to unique variable and create a new dataframe with select columns\n",
    "\n",
    "df_2019 = d['Resources/2019.csv']\n",
    "df_19 = df_2019[['Country or region', 'Overall rank', 'Score', 'GDP per capita', 'Healthy life expectancy',\n",
    "                      'Freedom to make life choices', 'Perceptions of corruption', 'Generosity']].copy()\n",
    "df_19.rename(columns = {'Country or region': \"country\", 'Overall rank': \"happiness rank\", \n",
    "                             'Score': \"happiness score\", 'GDP per capita': \"GDP\",\n",
    "                             'Healthy life expectancy': \"health - life expectancy\", 'Freedom to make life choices':\"freedom\",\n",
    "                             'Perceptions of corruption': \"trust (govt corruption)\", 'Generosity': \"generosity\"}, inplace=True)\n",
    "df_19"
   ]
  },
  {
   "cell_type": "code",
   "execution_count": null,
   "metadata": {},
   "outputs": [],
   "source": [
    "# Merge region_df on country for complete dataframe\n",
    "\n",
    "merge_19 = df_19.merge(region_df, on='country')\n",
    "\n",
    "# Create new dataframe and reindex columns\n",
    "\n",
    "column_names = ('country', 'region', 'happiness rank', 'happiness score', 'GDP',\n",
    "           'health - life expectancy', 'freedom', 'trust (govt corruption)',\n",
    "           'generosity')\n",
    "new_df_2019 = merge_19.reindex(columns=column_names)\n",
    "new_df_2019"
   ]
  },
  {
   "cell_type": "code",
   "execution_count": null,
   "metadata": {},
   "outputs": [],
   "source": [
    "# Search for missing values\n",
    "\n",
    "new_df_2019.isnull().values.any()"
   ]
  },
  {
   "cell_type": "code",
   "execution_count": null,
   "metadata": {},
   "outputs": [],
   "source": [
    "# Convert to .csv file\n",
    "new_df_2019.to_csv('happy_2019.csv', index=False)"
   ]
  },
  {
   "cell_type": "markdown",
   "metadata": {},
   "source": [
    "## Load\n",
    "\n",
    "After the raw data cleaning, we created three individual tables in PostgreSQL. The tables created are as follows:\n",
    "\n",
    "\"fifa\" Base Table\n",
    "    * Content Column_name [ id, rank, country_full, confederation, rank_date ] \n",
    "\n",
    "\"happinessYear\" Base Table\n",
    "    * Content Column_name [ country, region, happinessrank, happinessscore, gdp, health, freedom, trust, generosity, happiessyear ]\n",
    "\n",
    "\"happinessRegion\" Base Table\n",
    "    * Content Column_name [ country, region ]"
   ]
  },
  {
   "cell_type": "code",
   "execution_count": null,
   "metadata": {},
   "outputs": [],
   "source": []
  },
  {
   "cell_type": "code",
   "execution_count": null,
   "metadata": {},
   "outputs": [],
   "source": []
  },
  {
   "cell_type": "code",
   "execution_count": null,
   "metadata": {},
   "outputs": [],
   "source": []
  },
  {
   "cell_type": "code",
   "execution_count": null,
   "metadata": {},
   "outputs": [],
   "source": []
  },
  {
   "cell_type": "code",
   "execution_count": null,
   "metadata": {},
   "outputs": [],
   "source": []
  }
 ],
 "metadata": {
  "kernelspec": {
   "display_name": "Python 3",
   "language": "python",
   "name": "python3"
  },
  "language_info": {
   "codemirror_mode": {
    "name": "ipython",
    "version": 3
   },
   "file_extension": ".py",
   "mimetype": "text/x-python",
   "name": "python",
   "nbconvert_exporter": "python",
   "pygments_lexer": "ipython3",
   "version": "3.7.6"
  }
 },
 "nbformat": 4,
 "nbformat_minor": 4
}
